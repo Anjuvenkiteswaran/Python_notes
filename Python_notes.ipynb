{
  "nbformat": 4,
  "nbformat_minor": 0,
  "metadata": {
    "colab": {
      "provenance": []
    },
    "kernelspec": {
      "name": "python3",
      "display_name": "Python 3"
    },
    "language_info": {
      "name": "python"
    }
  },
  "cells": [
    {
      "cell_type": "markdown",
      "source": [
        " * comments are used to explain the codes\n",
        " * '''this is a multiline comment '''\n",
        " * use comments to write why rather than how the code is run\n",
        "\n"
      ],
      "metadata": {
        "id": "ys-chYMfO6RA"
      }
    },
    {
      "cell_type": "markdown",
      "source": [
        "* Python variables and literals\n"
      ],
      "metadata": {
        "id": "Mw9iV9XtO6VG"
      }
    },
    {
      "cell_type": "code",
      "source": [
        "number = 1\n",
        "print(number)"
      ],
      "metadata": {
        "colab": {
          "base_uri": "https://localhost:8080/"
        },
        "id": "DmRcbvBvTFHg",
        "outputId": "ff3ad2c5-fa51-41d5-a463-fe4ee521b4a5"
      },
      "execution_count": null,
      "outputs": [
        {
          "output_type": "stream",
          "name": "stdout",
          "text": [
            "1\n"
          ]
        }
      ]
    },
    {
      "cell_type": "markdown",
      "source": [
        "* Variables - container to hold data\n",
        "* here number is storing value of 10"
      ],
      "metadata": {
        "id": "WmKfEBnhO6Z5"
      }
    },
    {
      "cell_type": "markdown",
      "source": [
        " **To change the variable**\n"
      ],
      "metadata": {
        "id": "xdOhrZTJO6dS"
      }
    },
    {
      "cell_type": "code",
      "source": [
        "number = 1\n",
        "print(number)\n",
        "\n",
        "number =2\n",
        "print(number)"
      ],
      "metadata": {
        "colab": {
          "base_uri": "https://localhost:8080/"
        },
        "id": "CCswhqXHTk0B",
        "outputId": "dd1b8dd0-c57f-4c70-f683-4f62c0a726db"
      },
      "execution_count": null,
      "outputs": [
        {
          "output_type": "stream",
          "name": "stdout",
          "text": [
            "1\n",
            "2\n"
          ]
        }
      ]
    },
    {
      "cell_type": "code",
      "source": [
        "## Assigning multiple values to multiple variables\n",
        "a,b,c =5,6.2,'hello'\n",
        "print(a)\n",
        "print(b)\n",
        "print(c)"
      ],
      "metadata": {
        "colab": {
          "base_uri": "https://localhost:8080/"
        },
        "id": "bwaqv8Q1T4II",
        "outputId": "afabd7d0-8fa9-4809-c590-db28ca2dce1e"
      },
      "execution_count": null,
      "outputs": [
        {
          "output_type": "stream",
          "name": "stdout",
          "text": [
            "5\n",
            "6.2\n",
            "hello\n"
          ]
        }
      ]
    },
    {
      "cell_type": "code",
      "source": [
        "## To assign the same values to multiple variables\n",
        "x=y= 6.5\n",
        "print(x)\n",
        "print(y)"
      ],
      "metadata": {
        "colab": {
          "base_uri": "https://localhost:8080/"
        },
        "id": "VcyMEeHAUFqv",
        "outputId": "4924f0c7-dc49-4122-b282-9f66d808a1aa"
      },
      "execution_count": null,
      "outputs": [
        {
          "output_type": "stream",
          "name": "stdout",
          "text": [
            "6.5\n",
            "6.5\n"
          ]
        }
      ]
    },
    {
      "cell_type": "markdown",
      "source": [
        "**Rules for naming python variables**\n",
        "* Python is case sensitve\n",
        "* Keywords to be avoided like true,false\n",
        "* do not start with numbers"
      ],
      "metadata": {
        "id": "9B4fFSn6UUbb"
      }
    },
    {
      "cell_type": "markdown",
      "source": [
        "**Literals**\n",
        "* Representation of fixed values in a program eg: 12,23.0,c\n",
        "*  y= 3\n",
        "* y= variable and 3 is a literal\n",
        "* different types of literal - numeric,string,boolean,character etc"
      ],
      "metadata": {
        "id": "caS8-mPcUwme"
      }
    },
    {
      "cell_type": "markdown",
      "source": [
        "**Python Numeric Literals**\n",
        "*  Numeric literal are immutable\n",
        "* 3 classes - Integer,Float,complex\n",
        "* complex - a+bj\n"
      ],
      "metadata": {
        "id": "InAetXrxVa6p"
      }
    },
    {
      "cell_type": "markdown",
      "source": [
        "**Python string Literals**\n",
        "* Texts wrapped inside quotation marks\n",
        "* \"hello\",'hello'"
      ],
      "metadata": {
        "id": "fyz0DMRUV5Oc"
      }
    },
    {
      "cell_type": "markdown",
      "source": [
        "**Python Boolean Literals**\n",
        "* True or false\n",
        "*pass=true\n",
        "* Here true is a boolean assigned to pass\n",
        "\n"
      ],
      "metadata": {
        "id": "tipfjjMYWPcT"
      }
    },
    {
      "cell_type": "markdown",
      "source": [
        "**Character Literals in python**\n",
        "* Unicode characters enclosed in a quote\n",
        "* some_character ='s'\n",
        "# doubt difference between char and string?"
      ],
      "metadata": {
        "id": "dqzXvdcpWL1p"
      }
    },
    {
      "cell_type": "markdown",
      "source": [
        "**Special literal in python**\n",
        "* Python contains one special literal **NONE**\n",
        "* used to specify a null variable\n"
      ],
      "metadata": {
        "id": "SPsIFpxLXGlc"
      }
    },
    {
      "cell_type": "code",
      "source": [
        "Value = None\n",
        "print(Value)"
      ],
      "metadata": {
        "colab": {
          "base_uri": "https://localhost:8080/"
        },
        "id": "pS5xULUJXDq0",
        "outputId": "d70fc030-3e85-4387-efc7-ac95ba168255"
      },
      "execution_count": null,
      "outputs": [
        {
          "output_type": "stream",
          "name": "stdout",
          "text": [
            "None\n"
          ]
        }
      ]
    },
    {
      "cell_type": "markdown",
      "source": [
        "**collection literals**\n",
        "\n",
        "\n",
        "1.   List literal\n",
        "2.   Tuple\n",
        "3.   Dictionary\n",
        "4.   Set"
      ],
      "metadata": {
        "id": "CK6HFzsAW5AB"
      }
    },
    {
      "cell_type": "markdown",
      "source": [
        "**Python type conversion**\n",
        "* Process of converting one type of data to another\n",
        "* 2 types implicit and explicit\n"
      ],
      "metadata": {
        "id": "UhVJxa2tYkOf"
      }
    },
    {
      "cell_type": "code",
      "source": [
        "## Implicit\n",
        "## Python automatically converts one data type to another\n",
        "## example : Converting Integer to float\n",
        "integer_num =123\n",
        "float_num =1.23\n",
        "new_num = integer_num + float_num\n",
        "print(new_num)\n",
        "type(new_num)\n",
        "## Python promotes conversion of lower data type (integer) to higher data type float to avoid data loss\n",
        "## doubt : why higher and lower?"
      ],
      "metadata": {
        "colab": {
          "base_uri": "https://localhost:8080/"
        },
        "id": "am1zTrxBUQc4",
        "outputId": "eb3b0089-7f42-4cca-f125-6286cb48671c"
      },
      "execution_count": null,
      "outputs": [
        {
          "output_type": "stream",
          "name": "stdout",
          "text": [
            "124.23\n"
          ]
        },
        {
          "output_type": "execute_result",
          "data": {
            "text/plain": [
              "float"
            ]
          },
          "metadata": {},
          "execution_count": 12
        }
      ]
    },
    {
      "cell_type": "markdown",
      "source": [
        "* if we add str and int then we get a type error\n"
      ],
      "metadata": {
        "id": "ENk9fe2IaAhr"
      }
    },
    {
      "cell_type": "code",
      "source": [
        "## Explicit type conversion\n",
        "## users convert the data type of an object to required data type.\n",
        "## use of built in functions eg int(),float(),str()\n",
        "## Type casting : user casts changes the data type of the object\n",
        "\n",
        "num_string ='12'\n",
        "num =23\n",
        "print('type before casting',type(num_string))\n",
        "num_string = int(num_string)\n",
        "type(num_string)\n",
        "\n",
        "\n",
        "\n"
      ],
      "metadata": {
        "colab": {
          "base_uri": "https://localhost:8080/"
        },
        "id": "iPidYfVtaIdf",
        "outputId": "1adfd504-2754-493c-e905-68e7aeb29522"
      },
      "execution_count": null,
      "outputs": [
        {
          "output_type": "stream",
          "name": "stdout",
          "text": [
            "type before casting <class 'str'>\n"
          ]
        },
        {
          "output_type": "execute_result",
          "data": {
            "text/plain": [
              "int"
            ]
          },
          "metadata": {},
          "execution_count": 13
        }
      ]
    },
    {
      "cell_type": "markdown",
      "source": [
        "**Key Points to Remember**\n",
        "1. Type Conversion is the conversion of  an object from one data type to another data type.\n",
        "\n",
        "2. Python avoids the loss of data in Implicit Type Conversion.\n",
        "3.Explicit Type Conversion is also called Type Casting, the data types of objects are converted using predefined functions by the user.\n",
        "3. In Type Casting, loss of data may occur as we enforce the object to a specific data type."
      ],
      "metadata": {
        "id": "KsQGveotO6gf"
      }
    },
    {
      "cell_type": "markdown",
      "source": [
        "** Python Basic input and output**\n",
        "* print()\n",
        "* print can accept 5 parameters together\n"
      ],
      "metadata": {
        "id": "6al_QFq1oVjK"
      }
    },
    {
      "cell_type": "code",
      "source": [
        "##print(object= separator= end= file= flush= )\n",
        "## object = values to be printed\n",
        "## sep (optional)= allows us to seperate multiple objects inside\n",
        "## end(optional) - allows us to add specific lines like new line\n",
        "## file(optional) where the values are printed\n",
        "##flush(optional) boolean specifying the output is flushed or buffered default =false"
      ],
      "metadata": {
        "colab": {
          "base_uri": "https://localhost:8080/",
          "height": 106
        },
        "id": "P-QOzIXVoGR3",
        "outputId": "4edd9a2d-b82c-4207-af7d-9b75ec7aeb99"
      },
      "execution_count": null,
      "outputs": [
        {
          "output_type": "error",
          "ename": "SyntaxError",
          "evalue": "invalid syntax (<ipython-input-4-74c5e0ac0d32>, line 2)",
          "traceback": [
            "\u001b[0;36m  File \u001b[0;32m\"<ipython-input-4-74c5e0ac0d32>\"\u001b[0;36m, line \u001b[0;32m2\u001b[0m\n\u001b[0;31m    print(object= separator= end= file= flush=)\u001b[0m\n\u001b[0m                           ^\u001b[0m\n\u001b[0;31mSyntaxError\u001b[0m\u001b[0;31m:\u001b[0m invalid syntax\n"
          ]
        }
      ]
    },
    {
      "cell_type": "code",
      "source": [
        "print('dsfdsf',end='')\n",
        "print(\"safdfd\")"
      ],
      "metadata": {
        "id": "e5xYIAa-oGU7",
        "colab": {
          "base_uri": "https://localhost:8080/"
        },
        "outputId": "65742385-d5fa-4e58-e513-96ec508d9504"
      },
      "execution_count": null,
      "outputs": [
        {
          "output_type": "stream",
          "name": "stdout",
          "text": [
            "dsfdsfsafdfd\n"
          ]
        }
      ]
    },
    {
      "cell_type": "code",
      "source": [
        "print(\"ffEFEDF\", \"FSDAfd\",\"dgfDSG\",sep=']')"
      ],
      "metadata": {
        "id": "un4cwGJioGYf",
        "colab": {
          "base_uri": "https://localhost:8080/"
        },
        "outputId": "c3dc943e-589d-45df-9648-f7221b5b169b"
      },
      "execution_count": null,
      "outputs": [
        {
          "output_type": "stream",
          "name": "stdout",
          "text": [
            "ffEFEDF]FSDAfd]dgfDSG\n"
          ]
        }
      ]
    },
    {
      "cell_type": "code",
      "source": [
        "## print concatenated\n",
        "print(\"ejfefjer\"+\"fjelf\")"
      ],
      "metadata": {
        "id": "EgG8JfQQoGb-",
        "colab": {
          "base_uri": "https://localhost:8080/"
        },
        "outputId": "bd1dcb7f-32ac-4082-e7c2-8303e65a77a8"
      },
      "execution_count": null,
      "outputs": [
        {
          "output_type": "stream",
          "name": "stdout",
          "text": [
            "ejfefjerfjelf\n"
          ]
        }
      ]
    },
    {
      "cell_type": "code",
      "source": [
        "x=5\n",
        "y=4\n",
        "print(\" sfdsf{},fghg{}\".format(x,y))"
      ],
      "metadata": {
        "id": "V0bBJsBQoGhN",
        "colab": {
          "base_uri": "https://localhost:8080/"
        },
        "outputId": "14234463-bc87-4099-feb6-4f473e45f7aa"
      },
      "execution_count": null,
      "outputs": [
        {
          "output_type": "stream",
          "name": "stdout",
          "text": [
            " sfdsf5,fghg4\n"
          ]
        }
      ]
    },
    {
      "cell_type": "code",
      "source": [
        "num=input('hi:')\n",
        "## the entered value is a string"
      ],
      "metadata": {
        "colab": {
          "base_uri": "https://localhost:8080/"
        },
        "id": "TVvoyjNzR5Ks",
        "outputId": "9e7fc0ce-6807-4481-f29d-b67539f75b92"
      },
      "execution_count": null,
      "outputs": [
        {
          "name": "stdout",
          "output_type": "stream",
          "text": [
            "hi:l\n"
          ]
        }
      ]
    },
    {
      "cell_type": "code",
      "source": [
        "## to convert the input\n",
        "num=int(input('hi'))"
      ],
      "metadata": {
        "colab": {
          "base_uri": "https://localhost:8080/"
        },
        "id": "r25YacNuR5Nc",
        "outputId": "da014b98-bc83-4a9f-f3ed-fff29d45604b"
      },
      "execution_count": null,
      "outputs": [
        {
          "name": "stdout",
          "output_type": "stream",
          "text": [
            "hi9\n"
          ]
        }
      ]
    },
    {
      "cell_type": "markdown",
      "source": [
        "**Replace**\n",
        "* Replace method replaces a specified phrase with another\n",
        "* string.replace(oldvalue,newvalue,count)"
      ],
      "metadata": {
        "id": "-L84XNcrxRsy"
      }
    },
    {
      "cell_type": "code",
      "source": [
        "txt = \"one one was a race horse, two two was one too.\"\n",
        "x = txt.replace(\"one\", \"three\")\n",
        "\n",
        "print(x)"
      ],
      "metadata": {
        "colab": {
          "base_uri": "https://localhost:8080/"
        },
        "id": "SwIzOmMzxm-x",
        "outputId": "4825b863-e9b5-46a7-a49b-0df5ca8773eb"
      },
      "execution_count": null,
      "outputs": [
        {
          "output_type": "stream",
          "name": "stdout",
          "text": [
            "three three was a race horse, two two was three too.\n"
          ]
        }
      ]
    },
    {
      "cell_type": "code",
      "source": [
        "txt = \"one one was a race horse, two two was one too.\"\n",
        "\n",
        "x = txt.replace(\"one\", \"three\", 2)\n",
        "\n",
        "print(x)"
      ],
      "metadata": {
        "colab": {
          "base_uri": "https://localhost:8080/"
        },
        "id": "JbZOqCnixsjp",
        "outputId": "6ab576de-6ad0-4928-8b41-768a72e04558"
      },
      "execution_count": null,
      "outputs": [
        {
          "output_type": "stream",
          "name": "stdout",
          "text": [
            "three three was a race horse, two two was one too.\n"
          ]
        }
      ]
    },
    {
      "cell_type": "markdown",
      "source": [
        "**python operators**\n",
        "* operators are special symbols that perform operations on variables and values\n",
        "* 10//3 floor division ---> 10//3=3\n",
        "* types of operator\n",
        "1. Arithmetic Operators\n",
        "2. Assignment Operators\n",
        "3. Comparison Operators\n",
        "4. Logical Operators\n",
        "5. Bitwise Operators\n",
        "6. Special Operators\n"
      ],
      "metadata": {
        "id": "5O-G73yaSWCS"
      }
    },
    {
      "cell_type": "code",
      "source": [
        "##assignment operator\n",
        "x=3\n",
        "x+=1\n",
        "x\n",
        "y=3\n",
        "x+=x+y\n",
        "x"
      ],
      "metadata": {
        "colab": {
          "base_uri": "https://localhost:8080/"
        },
        "id": "APHtQG_bTMGM",
        "outputId": "f22fb162-f413-45c3-f87e-493a298f5d56"
      },
      "execution_count": null,
      "outputs": [
        {
          "output_type": "execute_result",
          "data": {
            "text/plain": [
              "11"
            ]
          },
          "metadata": {},
          "execution_count": 15
        }
      ]
    },
    {
      "cell_type": "code",
      "source": [
        "##special operators\n",
        "\n",
        "x is y\n",
        "x is not y"
      ],
      "metadata": {
        "colab": {
          "base_uri": "https://localhost:8080/"
        },
        "id": "d_JsmJ-TR5P6",
        "outputId": "0a198fe1-1dbf-4a3b-a6d6-f4446b3ec066"
      },
      "execution_count": null,
      "outputs": [
        {
          "output_type": "execute_result",
          "data": {
            "text/plain": [
              "True"
            ]
          },
          "metadata": {},
          "execution_count": 17
        }
      ]
    },
    {
      "cell_type": "markdown",
      "source": [
        "**Python flow control**\n",
        "* If else statement\n",
        "* if is a conditional statement\n"
      ],
      "metadata": {
        "id": "O0BzCynUWn6k"
      }
    },
    {
      "cell_type": "code",
      "source": [
        "num=10\n",
        "if num<0:\n",
        "  print(\"yes\")## this does not execute\n",
        "\n",
        "print(\"no\")"
      ],
      "metadata": {
        "colab": {
          "base_uri": "https://localhost:8080/"
        },
        "id": "CADk6WsXXUkz",
        "outputId": "0d4c27a3-6a3c-4602-cda6-a2e7c47e1953"
      },
      "execution_count": null,
      "outputs": [
        {
          "output_type": "stream",
          "name": "stdout",
          "text": [
            "no\n"
          ]
        }
      ]
    },
    {
      "cell_type": "code",
      "source": [
        "## if else statement\n",
        "## happens when if statement is false and else is executed\n",
        "\n"
      ],
      "metadata": {
        "id": "UrMplv26R5Sp"
      },
      "execution_count": null,
      "outputs": []
    },
    {
      "cell_type": "code",
      "source": [
        "##if and elif statements\n",
        "## if more than two alternatives\n"
      ],
      "metadata": {
        "id": "44gn3p85noJo"
      },
      "execution_count": null,
      "outputs": []
    },
    {
      "cell_type": "code",
      "source": [
        "##Nested if statement\n",
        "## if inside another if\n",
        "number=4\n",
        "if number>=4:\n",
        "   if number ==4:\n",
        "    print(\"kkk\")\n",
        "else:\n",
        "  print(\"jjj\")"
      ],
      "metadata": {
        "colab": {
          "base_uri": "https://localhost:8080/"
        },
        "id": "5goDQH1goDgJ",
        "outputId": "1983f0da-6edb-41b5-b0ec-d1e2049534c9"
      },
      "execution_count": null,
      "outputs": [
        {
          "output_type": "stream",
          "name": "stdout",
          "text": [
            "kkk\n"
          ]
        }
      ]
    },
    {
      "cell_type": "markdown",
      "source": [
        "**python for loop**\n",
        "* for loop iterastes over sequences\n",
        "* such as list,strings,tuples"
      ],
      "metadata": {
        "id": "jjsDBjhpcF1N"
      }
    },
    {
      "cell_type": "code",
      "source": [
        "language =['f','g','j']\n",
        "for i in language:\n",
        "  print (i)"
      ],
      "metadata": {
        "colab": {
          "base_uri": "https://localhost:8080/"
        },
        "id": "MCNZpJgZrvZ3",
        "outputId": "d92d15da-127a-4f5f-9d98-a4b61dd7be8f"
      },
      "execution_count": null,
      "outputs": [
        {
          "output_type": "stream",
          "name": "stdout",
          "text": [
            "f\n",
            "g\n",
            "j\n"
          ]
        }
      ]
    },
    {
      "cell_type": "code",
      "source": [
        "language ='python'\n",
        "for x in language:\n",
        "  print(x)"
      ],
      "metadata": {
        "colab": {
          "base_uri": "https://localhost:8080/"
        },
        "id": "F5fE36SCsCwn",
        "outputId": "e5e5ca21-7610-44d1-e0f9-37aa25de98b8"
      },
      "execution_count": null,
      "outputs": [
        {
          "output_type": "stream",
          "name": "stdout",
          "text": [
            "p\n",
            "y\n",
            "t\n",
            "h\n",
            "o\n",
            "n\n"
          ]
        }
      ]
    },
    {
      "cell_type": "code",
      "source": [
        "##python range\n",
        "values=range(4)\n",
        "for i in range(4):\n",
        "  print(i)\n",
        "\n",
        "  ##if last item in the list loop terminates"
      ],
      "metadata": {
        "colab": {
          "base_uri": "https://localhost:8080/"
        },
        "id": "Tej_5k2EsbtG",
        "outputId": "d84466d4-12fa-4816-c449-2b04db69dd2b"
      },
      "execution_count": null,
      "outputs": [
        {
          "output_type": "stream",
          "name": "stdout",
          "text": [
            "0\n",
            "1\n",
            "2\n",
            "3\n"
          ]
        }
      ]
    },
    {
      "cell_type": "markdown",
      "source": [
        "**python while loop**\n",
        "* Use it to repeat a block of code until certain condition is met\n"
      ],
      "metadata": {
        "id": "lMtJcK9Us3vx"
      }
    },
    {
      "cell_type": "code",
      "source": [
        "q =1\n",
        "while q <=4: ##condition to stop the loop\n",
        "  print(q)\n",
        "  q = q +1 ## increase the number\n",
        "  ##once false the loop terminates"
      ],
      "metadata": {
        "colab": {
          "base_uri": "https://localhost:8080/"
        },
        "id": "IMr8kxT9vsow",
        "outputId": "de20842e-10fc-4b1f-f52a-dffbf57385f3"
      },
      "execution_count": null,
      "outputs": [
        {
          "output_type": "stream",
          "name": "stdout",
          "text": [
            "1\n",
            "2\n",
            "3\n",
            "4\n"
          ]
        }
      ]
    },
    {
      "cell_type": "code",
      "source": [
        "##infinite while loop\n",
        "## if condition of while loop is always true the loop runs infinite times\n",
        "##"
      ],
      "metadata": {
        "id": "MKcI5qJEsCz8"
      },
      "execution_count": null,
      "outputs": []
    },
    {
      "cell_type": "markdown",
      "source": [
        "**python break and continue**\n",
        "* break and continue statements are used to alter the flow of loops\n"
      ],
      "metadata": {
        "id": "87CersF60dPy"
      }
    },
    {
      "cell_type": "code",
      "source": [
        "#python break\n",
        "for i in range(5):\n",
        "  if i == 3:\n",
        "    break\n",
        "  print (i)\n",
        "\n"
      ],
      "metadata": {
        "colab": {
          "base_uri": "https://localhost:8080/"
        },
        "id": "VJkc2k4_1yjV",
        "outputId": "53edb011-e1bf-4463-a59f-eec79c6319cb"
      },
      "execution_count": null,
      "outputs": [
        {
          "output_type": "stream",
          "name": "stdout",
          "text": [
            "0\n",
            "1\n",
            "2\n"
          ]
        }
      ]
    },
    {
      "cell_type": "code",
      "source": [
        "num=1\n",
        "while num <=10:\n",
        "  if num==8:\n",
        "    break\n",
        "  print(num)\n",
        "  num += 1\n",
        "\n",
        "\n"
      ],
      "metadata": {
        "colab": {
          "base_uri": "https://localhost:8080/"
        },
        "id": "NDoXhdLjsC3N",
        "outputId": "933c2f07-2f5c-42a2-90de-08b6fbb2c48b"
      },
      "execution_count": null,
      "outputs": [
        {
          "output_type": "stream",
          "name": "stdout",
          "text": [
            "1\n",
            "2\n",
            "3\n",
            "4\n",
            "5\n",
            "6\n",
            "7\n"
          ]
        }
      ]
    },
    {
      "cell_type": "code",
      "source": [
        "##continue statement\n",
        "for i in range(6):\n",
        "  #if i==4:\n",
        "   # continue\n",
        "  print(i)\n",
        "\n"
      ],
      "metadata": {
        "colab": {
          "base_uri": "https://localhost:8080/"
        },
        "id": "LPW_GnCGsC6S",
        "outputId": "ffde6a0d-bbb8-48d9-eb02-2a769a468103"
      },
      "execution_count": null,
      "outputs": [
        {
          "output_type": "stream",
          "name": "stdout",
          "text": [
            "0\n",
            "1\n",
            "2\n",
            "3\n",
            "4\n",
            "5\n"
          ]
        }
      ]
    },
    {
      "cell_type": "markdown",
      "source": [],
      "metadata": {
        "id": "NHKSBjV2uDqD"
      }
    },
    {
      "cell_type": "markdown",
      "source": [
        "**PYTHON PASS statement**\n",
        "* A null statement which can be used as a placeholder for future code\n",
        "* if we dont use the pass statement the code will give an error\n",
        "* as python interpretor entirely ignores a comment but not a pass statement\n"
      ],
      "metadata": {
        "id": "OCrFofKOuD4w"
      }
    },
    {
      "cell_type": "code",
      "source": [
        "n=11\n",
        "if n>10:\n",
        "  pass\n",
        "\n",
        "print('hello')"
      ],
      "metadata": {
        "colab": {
          "base_uri": "https://localhost:8080/"
        },
        "id": "FFIu3PeXuTq7",
        "outputId": "68516106-3762-4e50-b03b-ce17e27fbe0c"
      },
      "execution_count": null,
      "outputs": [
        {
          "output_type": "stream",
          "name": "stdout",
          "text": [
            "hello\n"
          ]
        }
      ]
    },
    {
      "cell_type": "markdown",
      "source": [
        "**Data types**\n",
        "* Number data type -stores the numeric values\n",
        "* int,float(15 decimal points) and complex\n",
        "*"
      ],
      "metadata": {
        "id": "m6D3p7Sb0pve"
      }
    },
    {
      "cell_type": "code",
      "source": [
        "num=19\n",
        "type(num)"
      ],
      "metadata": {
        "colab": {
          "base_uri": "https://localhost:8080/"
        },
        "id": "tyMWvzWr12_Y",
        "outputId": "9a1bb760-286c-49d9-a1c9-f6046878506d"
      },
      "execution_count": null,
      "outputs": [
        {
          "output_type": "execute_result",
          "data": {
            "text/plain": [
              "int"
            ]
          },
          "metadata": {},
          "execution_count": 2
        }
      ]
    },
    {
      "cell_type": "markdown",
      "source": [
        "**Number system**\n",
        "* binary 0b or 0B\n",
        "* octal 0o or 0O\n",
        "* Hexadecimal 0x or 0X\n"
      ],
      "metadata": {
        "id": "c7_cxoFj5Hes"
      }
    },
    {
      "cell_type": "code",
      "source": [
        "print(0b1101)\n",
        "print(0xFB-0b10)"
      ],
      "metadata": {
        "id": "CtT2v5hR3vkG",
        "colab": {
          "base_uri": "https://localhost:8080/"
        },
        "outputId": "6433ee59-31cb-4382-fe84-601980fddf69"
      },
      "execution_count": null,
      "outputs": [
        {
          "output_type": "stream",
          "name": "stdout",
          "text": [
            "13\n",
            "249\n"
          ]
        }
      ]
    },
    {
      "cell_type": "markdown",
      "source": [
        "**Type conversion in python**\n",
        "* converting one type into other\n",
        "* eg: print(1+2.0)   ##prints 3.0\n",
        "* 1 is converted to float so that addition can be done\n"
      ],
      "metadata": {
        "id": "fRVhaM6fzVdw"
      }
    },
    {
      "cell_type": "markdown",
      "source": [
        "**Python random module**\n",
        "\n"
      ],
      "metadata": {
        "id": "GH-77H5W0RU1"
      }
    },
    {
      "cell_type": "code",
      "source": [
        "import random\n",
        "print(random.randrange(10,20))"
      ],
      "metadata": {
        "colab": {
          "base_uri": "https://localhost:8080/"
        },
        "id": "fD40bJ9W0QfS",
        "outputId": "73de05b7-f592-49e8-f0e2-45bf8f50f620"
      },
      "execution_count": null,
      "outputs": [
        {
          "output_type": "stream",
          "name": "stdout",
          "text": [
            "10\n"
          ]
        }
      ]
    },
    {
      "cell_type": "code",
      "source": [
        "##to choose random from a list\n",
        "lista = ['a','b','c','d']\n",
        "print(random.choice(lista))"
      ],
      "metadata": {
        "colab": {
          "base_uri": "https://localhost:8080/"
        },
        "id": "VzOUIujO0lHJ",
        "outputId": "b7b2ccf0-bb44-4688-89b5-e842a92f6f0e"
      },
      "execution_count": null,
      "outputs": [
        {
          "output_type": "stream",
          "name": "stdout",
          "text": [
            "d\n"
          ]
        }
      ]
    },
    {
      "cell_type": "code",
      "source": [
        "random.shuffle(lista)\n",
        "print(lista)"
      ],
      "metadata": {
        "colab": {
          "base_uri": "https://localhost:8080/"
        },
        "id": "3xUeNxXd1JEV",
        "outputId": "40202b1a-dab4-4d3d-ba68-db60e501419e"
      },
      "execution_count": null,
      "outputs": [
        {
          "output_type": "stream",
          "name": "stdout",
          "text": [
            "['b', 'd', 'a', 'c']\n"
          ]
        }
      ]
    },
    {
      "cell_type": "code",
      "source": [
        "print(random.random())"
      ],
      "metadata": {
        "colab": {
          "base_uri": "https://localhost:8080/"
        },
        "id": "Y6IDmfEP1Rc7",
        "outputId": "06235036-6575-4aca-b82e-60973940a16b"
      },
      "execution_count": null,
      "outputs": [
        {
          "output_type": "stream",
          "name": "stdout",
          "text": [
            "0.3097072946950622\n"
          ]
        }
      ]
    },
    {
      "cell_type": "markdown",
      "source": [
        "**Python Mathematics**"
      ],
      "metadata": {
        "id": "VyI7YrOd1YH_"
      }
    },
    {
      "cell_type": "code",
      "source": [
        "import math\n",
        "print(math.pi)\n",
        "print(math.cos(math.pi))\n",
        "print(math.exp(10))\n",
        "print(math.log10(1000))\n",
        "print(math.sinh(1))\n",
        "print(math.factorial(6))"
      ],
      "metadata": {
        "colab": {
          "base_uri": "https://localhost:8080/"
        },
        "id": "dHr7pCLv1c1i",
        "outputId": "1cc55d25-9d64-484e-bdd7-ee1d45d51da8"
      },
      "execution_count": null,
      "outputs": [
        {
          "output_type": "stream",
          "name": "stdout",
          "text": [
            "3.141592653589793\n",
            "-1.0\n",
            "22026.465794806718\n",
            "3.0\n",
            "1.1752011936438014\n",
            "720\n"
          ]
        }
      ]
    },
    {
      "cell_type": "markdown",
      "source": [
        "**python list**\n",
        "* Built in data type\n",
        "* allows to store multiple items in a single variable\n",
        "* ordered - they maintain the order of elements\n",
        "* Mutable - items can be changed after creation\n",
        "* Allow duplicates - they can contain duplicate values"
      ],
      "metadata": {
        "id": "V-HLi2Cf0CGF"
      }
    },
    {
      "cell_type": "code",
      "source": [
        "ages=[12,34,67,98]\n",
        "print(ages)"
      ],
      "metadata": {
        "colab": {
          "base_uri": "https://localhost:8080/"
        },
        "id": "rPBbcwAC2JLr",
        "outputId": "67159218-6d0f-4a4d-ce66-3ce42b6f0174"
      },
      "execution_count": null,
      "outputs": [
        {
          "output_type": "stream",
          "name": "stdout",
          "text": [
            "[12, 34, 67, 98]\n"
          ]
        }
      ]
    },
    {
      "cell_type": "markdown",
      "source": [
        "* Accessing list elements\n",
        "* each list elements are associated with index\n",
        "* the index always starts with 0"
      ],
      "metadata": {
        "id": "Z-iLpotS2TPm"
      }
    },
    {
      "cell_type": "code",
      "source": [
        "listr = [343,567,877,12]\n",
        "print(listr[0])\n",
        "print(listr[-1]) ## negative indexing helps to access elements at the last\n",
        "##slicing the list\n",
        "my_list = [45,6,444,22,77,88,]\n",
        "print(my_list[2:4]) ## i=4 not included\n",
        "print(my_list[1:]) ## i=1 is included\n",
        "print(my_list[:])\n",
        "##if specified index does not exist in the list the python throws the index error"
      ],
      "metadata": {
        "colab": {
          "base_uri": "https://localhost:8080/"
        },
        "id": "RpLv79Bg3Igc",
        "outputId": "de8a74d3-4196-4399-991c-504e2575d4c2"
      },
      "execution_count": null,
      "outputs": [
        {
          "output_type": "stream",
          "name": "stdout",
          "text": [
            "343\n",
            "12\n",
            "[444, 22]\n",
            "[6, 444, 22, 77, 88]\n",
            "[45, 6, 444, 22, 77, 88]\n"
          ]
        }
      ]
    },
    {
      "cell_type": "code",
      "source": [
        "## Add elements to a python list\n",
        "num_l = [3232,3435,465,565]\n",
        "num_l.append(444) ## add element at the end of the list\n",
        "print(num_l)"
      ],
      "metadata": {
        "colab": {
          "base_uri": "https://localhost:8080/"
        },
        "id": "6lj_7sIl2PHn",
        "outputId": "51d45404-ab40-4418-a05b-398ccde1d499"
      },
      "execution_count": null,
      "outputs": [
        {
          "output_type": "stream",
          "name": "stdout",
          "text": [
            "[3232, 3435, 465, 565, 444]\n"
          ]
        }
      ]
    },
    {
      "cell_type": "code",
      "source": [
        "##adding elements inthe specified index\n",
        "num_l.insert(1,0)\n",
        "print(num_l)\n",
        "\n",
        "## if u do it"
      ],
      "metadata": {
        "colab": {
          "base_uri": "https://localhost:8080/"
        },
        "id": "0SvY8cZi7oW9",
        "outputId": "a7d3e162-5537-4d66-cd00-bc10deb074cc"
      },
      "execution_count": null,
      "outputs": [
        {
          "output_type": "stream",
          "name": "stdout",
          "text": [
            "[3232, 0, 3435, 465, 565, 444]\n"
          ]
        }
      ]
    },
    {
      "cell_type": "code",
      "source": [
        "## Add elements to a list from other iterables\n",
        "numbers = [22,33,44,55,34,28]\n",
        "even_numbers =[4,6,8]\n",
        "numbers.extend(even_numbers)\n",
        "\n",
        "print(numbers)"
      ],
      "metadata": {
        "colab": {
          "base_uri": "https://localhost:8080/"
        },
        "id": "y5LFePc-9jbB",
        "outputId": "9ac1c872-2e9a-4b0b-b99d-3c1fba36498c"
      },
      "execution_count": null,
      "outputs": [
        {
          "output_type": "stream",
          "name": "stdout",
          "text": [
            "[22, 33, 44, 55, 34, 28, 4, 6, 8]\n"
          ]
        }
      ]
    },
    {
      "cell_type": "code",
      "source": [
        "## change list items\n",
        "number =[34343,565,78879,3434,22]\n",
        "print(number)\n",
        "number[2] =70\n",
        "print(number)"
      ],
      "metadata": {
        "colab": {
          "base_uri": "https://localhost:8080/"
        },
        "id": "SNvtxImcFGRC",
        "outputId": "be0ceb9b-9633-47ae-80da-36ebe66b81a4"
      },
      "execution_count": null,
      "outputs": [
        {
          "output_type": "stream",
          "name": "stdout",
          "text": [
            "[34343, 565, 78879, 3434, 22]\n",
            "[34343, 565, 70, 3434, 22]\n"
          ]
        }
      ]
    },
    {
      "cell_type": "code",
      "source": [
        "## remove an item from a list\n",
        "number.remove(70) ## value not iteration\n",
        "print(number)"
      ],
      "metadata": {
        "colab": {
          "base_uri": "https://localhost:8080/"
        },
        "id": "6pjmhOtDFjH6",
        "outputId": "34d593a0-6c24-434a-cc78-259d95546d36"
      },
      "execution_count": null,
      "outputs": [
        {
          "output_type": "stream",
          "name": "stdout",
          "text": [
            "[34343, 565, 3434, 22]\n"
          ]
        }
      ]
    },
    {
      "cell_type": "code",
      "source": [
        "## remove 1 or more elements from the list\n",
        "delete_num =[334,78687,223,556]\n",
        "del delete_num[1]\n",
        "print(delete_num)\n",
        "del delete_num[1:3]\n",
        "print(delete_num)"
      ],
      "metadata": {
        "colab": {
          "base_uri": "https://localhost:8080/"
        },
        "id": "Xh9u5uX7F6Y6",
        "outputId": "ecf07eb3-fcc9-4c87-dc13-70c5ebb189b7"
      },
      "execution_count": null,
      "outputs": [
        {
          "output_type": "stream",
          "name": "stdout",
          "text": [
            "[334, 223, 556]\n",
            "[334]\n"
          ]
        }
      ]
    },
    {
      "cell_type": "code",
      "source": [
        "##python list length\n",
        "len(delete_num)"
      ],
      "metadata": {
        "colab": {
          "base_uri": "https://localhost:8080/"
        },
        "id": "i6-jdN1XHBMZ",
        "outputId": "fba56d10-4943-4ae2-9d94-e302b7ffecbe"
      },
      "execution_count": null,
      "outputs": [
        {
          "output_type": "execute_result",
          "data": {
            "text/plain": [
              "1"
            ]
          },
          "metadata": {},
          "execution_count": 37
        }
      ]
    },
    {
      "cell_type": "code",
      "source": [
        "delete_num =[334,78687,223,556]\n",
        "for i in delete_num:\n",
        "  print(i)\n",
        "\n"
      ],
      "metadata": {
        "colab": {
          "base_uri": "https://localhost:8080/"
        },
        "id": "IaFibZAiHNt_",
        "outputId": "7c7423cc-6147-47c0-bc03-5209226a9d49"
      },
      "execution_count": null,
      "outputs": [
        {
          "output_type": "stream",
          "name": "stdout",
          "text": [
            "334\n",
            "78687\n",
            "223\n",
            "556\n"
          ]
        }
      ]
    },
    {
      "cell_type": "code",
      "source": [
        "#delete_num.pop(2)\n",
        "delete_num =[334,78687,223,556]\n",
        "print(delete_num.sort())\n"
      ],
      "metadata": {
        "colab": {
          "base_uri": "https://localhost:8080/"
        },
        "id": "aBYcE2HoHfUd",
        "outputId": "5635cc63-7dcb-4e9a-9d5f-bffa0b38049a"
      },
      "execution_count": null,
      "outputs": [
        {
          "output_type": "stream",
          "name": "stdout",
          "text": [
            "None\n"
          ]
        }
      ]
    },
    {
      "cell_type": "code",
      "source": [
        "##clear,index,remove,count, reverse,copy"
      ],
      "metadata": {
        "id": "JiGYW07YIdbD"
      },
      "execution_count": null,
      "outputs": []
    },
    {
      "cell_type": "code",
      "source": [
        "## list comprehension\n",
        "numbers=[n**2 for n in range(1,6)]\n",
        "print(numbers)\n",
        "\n",
        "## if not using list comprehension\n",
        "numbers= list(range(1,7)) ##very very imp\n",
        "\n",
        "square = []\n",
        "for n in numbers:\n",
        " square.append(n**2)\n",
        "print(square)"
      ],
      "metadata": {
        "id": "3AWJT3HrHlCu",
        "colab": {
          "base_uri": "https://localhost:8080/"
        },
        "outputId": "5625dc7c-3c38-4c59-ba2b-73f4bf01ff51"
      },
      "execution_count": null,
      "outputs": [
        {
          "output_type": "stream",
          "name": "stdout",
          "text": [
            "[1, 4, 9, 16, 25, 36]\n"
          ]
        }
      ]
    },
    {
      "cell_type": "code",
      "source": [
        "## check if an exists in the python list\n",
        "number = [11,22,44,55,66]\n",
        "print(11 in number)\n",
        "#Lists are similar to arrays in other programming languages. When people refer to arrays in Python, they often mean lists, even though there is a numeric array type in Python"
      ],
      "metadata": {
        "colab": {
          "base_uri": "https://localhost:8080/"
        },
        "id": "t-enp6SXsUbq",
        "outputId": "02be2c16-6c5b-435f-9b13-f915668ece07"
      },
      "execution_count": null,
      "outputs": [
        {
          "output_type": "stream",
          "name": "stdout",
          "text": [
            "True\n"
          ]
        }
      ]
    },
    {
      "cell_type": "markdown",
      "source": [
        "**Python Tuple**\n",
        "* a tuple is a collection of data similar to a python list"
      ],
      "metadata": {
        "id": "5nQhcjt8t8kV"
      }
    },
    {
      "cell_type": "code",
      "source": [
        "numbers =(1,-2,3)\n",
        "print(numbers)"
      ],
      "metadata": {
        "colab": {
          "base_uri": "https://localhost:8080/"
        },
        "id": "cVqgppttxC8c",
        "outputId": "e70fce06-79e3-42b2-ab9d-b5f3e7481833"
      },
      "execution_count": null,
      "outputs": [
        {
          "output_type": "stream",
          "name": "stdout",
          "text": [
            "(1, -2, 3)\n"
          ]
        }
      ]
    },
    {
      "cell_type": "code",
      "source": [
        "##create a tuple using tuple() constructor\n",
        "icandoit = tuple((4,5,7,6))\n",
        "print(icandoit)"
      ],
      "metadata": {
        "colab": {
          "base_uri": "https://localhost:8080/"
        },
        "id": "TbXDMjaHt7sF",
        "outputId": "6f219c6e-5fc2-4857-a41f-5818f816de3f"
      },
      "execution_count": null,
      "outputs": [
        {
          "output_type": "stream",
          "name": "stdout",
          "text": [
            "(4, 5, 7, 6)\n"
          ]
        }
      ]
    },
    {
      "cell_type": "code",
      "source": [
        "\n",
        "##Different types of typle\n",
        "## Empty tuple\n",
        "empty_tuple =()\n",
        "print(empty_tuple)\n",
        "\n",
        "string_type =('anju','venki','Eva')\n",
        "print(string_type)\n",
        "\n",
        "##mixed data types\n",
        "mixed_tuple =(2,'hello','dsdsf')\n"
      ],
      "metadata": {
        "colab": {
          "base_uri": "https://localhost:8080/"
        },
        "id": "V5_IBqd_xqBp",
        "outputId": "604773d2-a2c3-4109-be7f-e5c2c5450550"
      },
      "execution_count": null,
      "outputs": [
        {
          "output_type": "stream",
          "name": "stdout",
          "text": [
            "()\n",
            "('anju', 'venki', 'Eva')\n"
          ]
        }
      ]
    },
    {
      "cell_type": "markdown",
      "source": [
        "* tuple characteristics\n",
        "* ordered\n",
        "* immutable\n",
        "* Allow duplicates\n"
      ],
      "metadata": {
        "id": "bbUP_B28ye6M"
      }
    },
    {
      "cell_type": "code",
      "source": [
        "## access tuple item\n",
        "language = (123,'rebfhef',3884)\n",
        "print(language[0])\n"
      ],
      "metadata": {
        "colab": {
          "base_uri": "https://localhost:8080/"
        },
        "id": "EpDtTIPNynMS",
        "outputId": "ad85b85f-70d5-43ce-c6ca-c23ce8488f48"
      },
      "execution_count": null,
      "outputs": [
        {
          "output_type": "stream",
          "name": "stdout",
          "text": [
            "123\n"
          ]
        }
      ]
    },
    {
      "cell_type": "code",
      "source": [
        "## Tuple cannot be modified\n",
        "cars = (12123,3455,222,333,5456)\n",
        "cars[0]\n",
        "print(len(cars))"
      ],
      "metadata": {
        "colab": {
          "base_uri": "https://localhost:8080/"
        },
        "id": "437DxEcSydc0",
        "outputId": "07eb78d6-9e3c-4f9a-afb2-918f8ae3c8f4"
      },
      "execution_count": null,
      "outputs": [
        {
          "output_type": "stream",
          "name": "stdout",
          "text": [
            "5\n"
          ]
        }
      ]
    },
    {
      "cell_type": "code",
      "source": [
        "for i in cars:\n",
        "  print(i)"
      ],
      "metadata": {
        "colab": {
          "base_uri": "https://localhost:8080/"
        },
        "id": "2ku61R5xz4Y-",
        "outputId": "f3d8e71a-bfa3-49ba-8aa1-d102ce9f0cb5"
      },
      "execution_count": null,
      "outputs": [
        {
          "output_type": "stream",
          "name": "stdout",
          "text": [
            "12123\n",
            "3455\n",
            "222\n",
            "333\n",
            "5456\n"
          ]
        }
      ]
    },
    {
      "cell_type": "code",
      "source": [
        "## check if an item exists in the tuple\n",
        "nums = (4434,34435,2232,666)\n",
        "print(4434 in nums)\n"
      ],
      "metadata": {
        "colab": {
          "base_uri": "https://localhost:8080/"
        },
        "id": "WG9jqEYjxqGC",
        "outputId": "e46934d3-8010-4a56-b133-5d38530d4528"
      },
      "execution_count": null,
      "outputs": [
        {
          "output_type": "stream",
          "name": "stdout",
          "text": [
            "True\n"
          ]
        }
      ]
    },
    {
      "cell_type": "code",
      "source": [
        "##delete the tuple\n",
        "num = (3444,223,12121,6878)\n",
        "del num ## num is deleted\n"
      ],
      "metadata": {
        "id": "Kerja-b-3Ggp"
      },
      "execution_count": null,
      "outputs": []
    },
    {
      "cell_type": "code",
      "source": [
        "##Creating a tuple with one item\n",
        "var = ('hello')\n",
        "print(var)\n",
        "#But this would not create a tuple; instead, it would be considered a string.\n",
        "var = ('hello',) this is a tuple"
      ],
      "metadata": {
        "colab": {
          "base_uri": "https://localhost:8080/"
        },
        "id": "tLQZaQap3sjF",
        "outputId": "228b43b4-d99f-4a3d-ceeb-aae9ce4e0008"
      },
      "execution_count": null,
      "outputs": [
        {
          "output_type": "stream",
          "name": "stdout",
          "text": [
            "hello\n"
          ]
        }
      ]
    },
    {
      "cell_type": "markdown",
      "source": [
        "**Python sets**\n",
        "* A set is a collection of unique data i.e within a set cannot be duplicated\n",
        "* {}\n",
        "*A set can have any number of items and they may be of different types (integer, float, tuple, string, etc.).\n",
        "*cannot have mutable elements like lists, sets or dictionaries as its elements.\n"
      ],
      "metadata": {
        "id": "hDhs0g3X3gGD"
      }
    },
    {
      "cell_type": "code",
      "source": [
        "student = {11,22,3343,555,434}\n",
        "print(student)\n",
        "\n",
        "## create a set of string type\n",
        "vowel = {'a','b','c','d'}\n",
        "print(vowel)\n",
        "\n",
        "## create a mixed data set\n",
        "mixed = {'sdsdfs',2323,34,}\n",
        "print(mixed)\n"
      ],
      "metadata": {
        "colab": {
          "base_uri": "https://localhost:8080/"
        },
        "id": "gypdTwT552Dc",
        "outputId": "9335c7e5-f6db-4a27-b42e-c162f014976c"
      },
      "execution_count": null,
      "outputs": [
        {
          "output_type": "stream",
          "name": "stdout",
          "text": [
            "{434, 22, 555, 11, 3343}\n",
            "{'c', 'd', 'a', 'b'}\n",
            "{34, 2323, 'sdsdfs'}\n"
          ]
        }
      ]
    },
    {
      "cell_type": "markdown",
      "source": [
        "* set does not have any particular order\n",
        "* to create empty set()\n",
        "\n"
      ],
      "metadata": {
        "id": "FRHVWilP6u7p"
      }
    },
    {
      "cell_type": "code",
      "source": [
        "numbers ={2,4,4,6,6,2,8}\n",
        "print(numbers) ## no duplicate values\n",
        "\n",
        "## add numbers\n",
        "numbers.add(40)\n",
        "print(numbers)\n",
        "\n",
        "## update python set\n",
        "a = {2,3,4,5,6,7,8}\n",
        "b = {8,9,10,11,12,13,14,15}\n",
        "a.update(b)\n",
        "print(a)\n",
        " ##remove an element from set\n",
        "d= a.discard(3)\n",
        "print(a)\n"
      ],
      "metadata": {
        "colab": {
          "base_uri": "https://localhost:8080/"
        },
        "id": "OffX5HhL2FwX",
        "outputId": "7c2c09c2-c4a6-4a2a-b072-928849552016"
      },
      "execution_count": null,
      "outputs": [
        {
          "output_type": "stream",
          "name": "stdout",
          "text": [
            "{8, 2, 4, 6}\n",
            "{2, 4, 6, 8, 40}\n",
            "{2, 3, 4, 5, 6, 7, 8, 9, 10, 11, 12, 13, 14, 15}\n",
            "{2, 4, 5, 6, 7, 8, 9, 10, 11, 12, 13, 14, 15}\n"
          ]
        }
      ]
    },
    {
      "cell_type": "code",
      "source": [],
      "metadata": {
        "id": "cy0cxNbs2hVM"
      },
      "execution_count": null,
      "outputs": []
    },
    {
      "cell_type": "code",
      "source": [
        "## Set operations"
      ],
      "metadata": {
        "id": "VoBGgIM73eT0"
      },
      "execution_count": null,
      "outputs": []
    },
    {
      "cell_type": "markdown",
      "source": [
        "**Dictionaries**"
      ],
      "metadata": {
        "id": "jcH0D54latR0"
      }
    },
    {
      "cell_type": "markdown",
      "source": [],
      "metadata": {
        "id": "BDVK7HrR3e4e"
      }
    },
    {
      "cell_type": "markdown",
      "source": [
        "**Python classes and objects**\n",
        "* Object - collection of data and methods\n",
        "* Class - blue print of objects\n",
        "*  blueprint of a house is - class\n",
        "and the house is boject\n",
        "* Can create many objects from a class\n",
        "*\n",
        "\n",
        "\n",
        "```\n",
        "\n",
        "```\n",
        "\n"
      ],
      "metadata": {
        "id": "THyheiuAFN5x"
      }
    },
    {
      "cell_type": "code",
      "source": [
        "class classname:\n",
        "  name = \" uma\"\n",
        "  surname = \" venki\""
      ],
      "metadata": {
        "id": "-GX5nslhRwoq"
      },
      "execution_count": null,
      "outputs": []
    },
    {
      "cell_type": "code",
      "source": [
        "##Python objects\n",
        "## instance of a class\n",
        "## classname is a class we create objects\n",
        "student1 = classname()"
      ],
      "metadata": {
        "id": "E9BkGro3R7pq"
      },
      "execution_count": null,
      "outputs": []
    },
    {
      "cell_type": "code",
      "source": [
        "## accessing class attributed using objects\n",
        "student1.name=\"anju\"\n",
        "student1.surname\n",
        "\n"
      ],
      "metadata": {
        "colab": {
          "base_uri": "https://localhost:8080/",
          "height": 35
        },
        "id": "5FpyfcSLSbsj",
        "outputId": "ef57cb74-45fa-46a5-bcc7-38e5320ba140"
      },
      "execution_count": null,
      "outputs": [
        {
          "output_type": "execute_result",
          "data": {
            "text/plain": [
              "' venki'"
            ],
            "application/vnd.google.colaboratory.intrinsic+json": {
              "type": "string"
            }
          },
          "metadata": {},
          "execution_count": 5
        }
      ]
    },
    {
      "cell_type": "code",
      "source": [
        "# define a class\n",
        "class Bike:\n",
        "    name = \"\"\n",
        "    gear = 0\n",
        "\n",
        "# create object of class\n",
        "bike1 = Bike()\n",
        "\n",
        "# access attributes and assign new values\n",
        "bike1.gear = 11\n",
        "bike1.name = \"Mountain Bike\"\n",
        "\n",
        "print(f\"Name: {bike1.name}, Gears: {bike1.gear} \")"
      ],
      "metadata": {
        "colab": {
          "base_uri": "https://localhost:8080/"
        },
        "id": "fDomVWybRawP",
        "outputId": "aa58f67e-a47b-4b7a-b3c0-98622cb3612b"
      },
      "execution_count": null,
      "outputs": [
        {
          "output_type": "stream",
          "name": "stdout",
          "text": [
            "Name: Mountain Bike, Gears: 11 \n"
          ]
        }
      ]
    },
    {
      "cell_type": "code",
      "source": [
        "#Create Multiple Objects of Python Class\n",
        "# define a class\n",
        "class Employee:\n",
        "    # define a property\n",
        "    employee_id = 0\n",
        "\n",
        "# create two objects of the Employee class\n",
        "employee1 = Employee()\n",
        "employee2 = Employee()\n",
        "\n",
        "# access property using employee1\n",
        "employee1.employeeID = 1001\n",
        "print(f\"Employee ID: {employee1.employeeID}\")\n",
        "\n",
        "# access properties using employee2\n",
        "employee2.employeeID = 1002\n",
        "print(f\"Employee ID: {employee2.employeeID}\")"
      ],
      "metadata": {
        "colab": {
          "base_uri": "https://localhost:8080/"
        },
        "id": "98_0LaK_S-Nc",
        "outputId": "dbddb3b4-fed2-4e90-be3c-129f5c794700"
      },
      "execution_count": null,
      "outputs": [
        {
          "output_type": "stream",
          "name": "stdout",
          "text": [
            "Employee ID: 1001\n",
            "Employee ID: 1002\n"
          ]
        }
      ]
    },
    {
      "cell_type": "markdown",
      "source": [
        "** Return statement**\n",
        "A return statement is used to end the execution of the function call and “returns” the result (value of the expression following the return keyword) to the caller. The statements after the return statements are not executed. If the return statement is without any expression, then the special value None is returned. A return statement is overall used to invoke a function so that the passed statements can be executed."
      ],
      "metadata": {
        "id": "kGKIIO3S74e5"
      }
    },
    {
      "cell_type": "code",
      "source": [
        "def cube(x):\n",
        "   r=x**3\n",
        "   return r"
      ],
      "metadata": {
        "id": "0OkxlSfr7Xqy"
      },
      "execution_count": null,
      "outputs": []
    },
    {
      "cell_type": "code",
      "source": [
        "def cube(x):\n",
        "   r=x**4\n",
        "   print (r)"
      ],
      "metadata": {
        "id": "2NyXJFv-7-NN"
      },
      "execution_count": null,
      "outputs": []
    },
    {
      "cell_type": "code",
      "source": [
        "cube(3)"
      ],
      "metadata": {
        "colab": {
          "base_uri": "https://localhost:8080/"
        },
        "id": "qAZbF1II7uVM",
        "outputId": "71bac6fc-20b8-494e-c289-cec21d9eef56"
      },
      "execution_count": null,
      "outputs": [
        {
          "output_type": "stream",
          "name": "stdout",
          "text": [
            "81\n"
          ]
        }
      ]
    },
    {
      "cell_type": "code",
      "source": [
        "class Solution:\n",
        "    def arithmeticTriplets(self, nums: List[int], diff: int) -> int:\n",
        "       count =0\n",
        "       for i in range(len(nums)):\n",
        "            for j in range(i+1,len(nums)):\n",
        "                for k in range (j+1,len(nums)):\n",
        "                   if nums[i]-nums[j]== diff and nums[j]-nums[k]== diff:\n",
        "                    count +=1\n",
        "                    return count\n",
        "\n"
      ],
      "metadata": {
        "id": "shchVBNzDqDl",
        "colab": {
          "base_uri": "https://localhost:8080/",
          "height": 332
        },
        "outputId": "a4a76175-5b43-4d95-e09c-19bb1e086dfa"
      },
      "execution_count": null,
      "outputs": [
        {
          "output_type": "error",
          "ename": "NameError",
          "evalue": "name 'List' is not defined",
          "traceback": [
            "\u001b[0;31m---------------------------------------------------------------------------\u001b[0m",
            "\u001b[0;31mNameError\u001b[0m                                 Traceback (most recent call last)",
            "\u001b[0;32m<ipython-input-18-1f389cfa2f29>\u001b[0m in \u001b[0;36m<cell line: 1>\u001b[0;34m()\u001b[0m\n\u001b[0;32m----> 1\u001b[0;31m \u001b[0;32mclass\u001b[0m \u001b[0mSolution\u001b[0m\u001b[0;34m:\u001b[0m\u001b[0;34m\u001b[0m\u001b[0;34m\u001b[0m\u001b[0m\n\u001b[0m\u001b[1;32m      2\u001b[0m     \u001b[0;32mdef\u001b[0m \u001b[0marithmeticTriplets\u001b[0m\u001b[0;34m(\u001b[0m\u001b[0mself\u001b[0m\u001b[0;34m,\u001b[0m \u001b[0mnums\u001b[0m\u001b[0;34m:\u001b[0m \u001b[0mList\u001b[0m\u001b[0;34m[\u001b[0m\u001b[0mint\u001b[0m\u001b[0;34m]\u001b[0m\u001b[0;34m,\u001b[0m \u001b[0mdiff\u001b[0m\u001b[0;34m:\u001b[0m \u001b[0mint\u001b[0m\u001b[0;34m)\u001b[0m \u001b[0;34m->\u001b[0m \u001b[0mint\u001b[0m\u001b[0;34m:\u001b[0m\u001b[0;34m\u001b[0m\u001b[0;34m\u001b[0m\u001b[0m\n\u001b[1;32m      3\u001b[0m        \u001b[0mcount\u001b[0m \u001b[0;34m=\u001b[0m\u001b[0;36m0\u001b[0m\u001b[0;34m\u001b[0m\u001b[0;34m\u001b[0m\u001b[0m\n\u001b[1;32m      4\u001b[0m        \u001b[0;32mfor\u001b[0m \u001b[0mi\u001b[0m \u001b[0;32min\u001b[0m \u001b[0mrange\u001b[0m\u001b[0;34m(\u001b[0m\u001b[0mlen\u001b[0m\u001b[0;34m(\u001b[0m\u001b[0mnums\u001b[0m\u001b[0;34m)\u001b[0m\u001b[0;34m)\u001b[0m\u001b[0;34m:\u001b[0m\u001b[0;34m\u001b[0m\u001b[0;34m\u001b[0m\u001b[0m\n\u001b[1;32m      5\u001b[0m             \u001b[0;32mfor\u001b[0m \u001b[0mj\u001b[0m \u001b[0;32min\u001b[0m \u001b[0mrange\u001b[0m\u001b[0;34m(\u001b[0m\u001b[0mi\u001b[0m\u001b[0;34m+\u001b[0m\u001b[0;36m1\u001b[0m\u001b[0;34m,\u001b[0m\u001b[0mlen\u001b[0m\u001b[0;34m(\u001b[0m\u001b[0mnums\u001b[0m\u001b[0;34m)\u001b[0m\u001b[0;34m)\u001b[0m\u001b[0;34m:\u001b[0m\u001b[0;34m\u001b[0m\u001b[0;34m\u001b[0m\u001b[0m\n",
            "\u001b[0;32m<ipython-input-18-1f389cfa2f29>\u001b[0m in \u001b[0;36mSolution\u001b[0;34m()\u001b[0m\n\u001b[1;32m      1\u001b[0m \u001b[0;32mclass\u001b[0m \u001b[0mSolution\u001b[0m\u001b[0;34m:\u001b[0m\u001b[0;34m\u001b[0m\u001b[0;34m\u001b[0m\u001b[0m\n\u001b[0;32m----> 2\u001b[0;31m     \u001b[0;32mdef\u001b[0m \u001b[0marithmeticTriplets\u001b[0m\u001b[0;34m(\u001b[0m\u001b[0mself\u001b[0m\u001b[0;34m,\u001b[0m \u001b[0mnums\u001b[0m\u001b[0;34m:\u001b[0m \u001b[0mList\u001b[0m\u001b[0;34m[\u001b[0m\u001b[0mint\u001b[0m\u001b[0;34m]\u001b[0m\u001b[0;34m,\u001b[0m \u001b[0mdiff\u001b[0m\u001b[0;34m:\u001b[0m \u001b[0mint\u001b[0m\u001b[0;34m)\u001b[0m \u001b[0;34m->\u001b[0m \u001b[0mint\u001b[0m\u001b[0;34m:\u001b[0m\u001b[0;34m\u001b[0m\u001b[0;34m\u001b[0m\u001b[0m\n\u001b[0m\u001b[1;32m      3\u001b[0m        \u001b[0mcount\u001b[0m \u001b[0;34m=\u001b[0m\u001b[0;36m0\u001b[0m\u001b[0;34m\u001b[0m\u001b[0;34m\u001b[0m\u001b[0m\n\u001b[1;32m      4\u001b[0m        \u001b[0;32mfor\u001b[0m \u001b[0mi\u001b[0m \u001b[0;32min\u001b[0m \u001b[0mrange\u001b[0m\u001b[0;34m(\u001b[0m\u001b[0mlen\u001b[0m\u001b[0;34m(\u001b[0m\u001b[0mnums\u001b[0m\u001b[0;34m)\u001b[0m\u001b[0;34m)\u001b[0m\u001b[0;34m:\u001b[0m\u001b[0;34m\u001b[0m\u001b[0;34m\u001b[0m\u001b[0m\n\u001b[1;32m      5\u001b[0m             \u001b[0;32mfor\u001b[0m \u001b[0mj\u001b[0m \u001b[0;32min\u001b[0m \u001b[0mrange\u001b[0m\u001b[0;34m(\u001b[0m\u001b[0mi\u001b[0m\u001b[0;34m+\u001b[0m\u001b[0;36m1\u001b[0m\u001b[0;34m,\u001b[0m\u001b[0mlen\u001b[0m\u001b[0;34m(\u001b[0m\u001b[0mnums\u001b[0m\u001b[0;34m)\u001b[0m\u001b[0;34m)\u001b[0m\u001b[0;34m:\u001b[0m\u001b[0;34m\u001b[0m\u001b[0;34m\u001b[0m\u001b[0m\n",
            "\u001b[0;31mNameError\u001b[0m: name 'List' is not defined"
          ]
        }
      ]
    }
  ]
}